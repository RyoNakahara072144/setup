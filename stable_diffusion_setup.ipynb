{
 "cells": [
  {
   "cell_type": "markdown",
   "metadata": {},
   "source": [
    "# Stable Diffusionの起動"
   ]
  },
  {
   "cell_type": "code",
   "execution_count": null,
   "metadata": {
    "execution": {
     "iopub.execute_input": "2024-01-13T01:29:18.862189Z",
     "iopub.status.busy": "2024-01-13T01:29:18.861749Z",
     "iopub.status.idle": "2024-01-13T01:33:38.058046Z",
     "shell.execute_reply": "2024-01-13T01:33:38.057277Z",
     "shell.execute_reply.started": "2024-01-13T01:29:18.862166Z"
    },
    "id": "qfGtMLwLpCr3"
   },
   "outputs": [],
   "source": [
    "!apt update\n",
    "!apt -y install python3.10\n",
    "!apt -y install libpython3.10-dev\n",
    "!apt -y install build-essential\n",
    "!apt -y install ffmpeg\n",
    "!curl -sS https://bootstrap.pypa.io/get-pip.py | python3.10\n",
    "!python3.10 -m pip install torch==2.0.1+cu118 torchvision==0.15.2+cu118 torchaudio==2.0.2+cu118 torchtext==0.15.2 torchdata==0.6.1 --extra-index-url https://download.pytorch.org/whl/cu118 -U\n",
    "!python3.10 -m pip install xformers==0.0.20 triton==2.0.0 -U\n",
    "!python3.10 -m pip install httpx==0.24.1\n",
    "!python3.10 -m pip install matplotlib -U\n",
    "!python3.10 -m pip install ipython -U\n",
    "from IPython import get_ipython\n",
    "get_ipython().run_line_magic('matplotlib', 'inline')\n",
    "%cd /notebooks/stable-diffusion-webui\n",
    "!python3.10 launch.py --xformers --enable-insecure-extension-access --share --gradio-queue\n"
   ]
  },
  {
   "cell_type": "markdown",
   "metadata": {},
   "source": [
    "# Stable Diffusionのダウンロード"
   ]
  },
  {
   "cell_type": "code",
   "execution_count": null,
   "metadata": {
    "execution": {
     "iopub.execute_input": "2024-01-13T01:19:06.280736Z",
     "iopub.status.busy": "2024-01-13T01:19:06.280024Z",
     "iopub.status.idle": "2024-01-13T01:19:08.710550Z",
     "shell.execute_reply": "2024-01-13T01:19:08.709741Z",
     "shell.execute_reply.started": "2024-01-13T01:19:06.280706Z"
    },
    "id": "JMVf8COkpK0e"
   },
   "outputs": [],
   "source": [
    "%cd /notebooks\n",
    "!rm -rf stable-diffusion-webui\n",
    "!git clone https://github.com/AUTOMATIC1111/stable-diffusion-webui\n"
   ]
  },
  {
   "cell_type": "markdown",
   "metadata": {},
   "source": [
    "# モデルのダウンロード"
   ]
  },
  {
   "cell_type": "code",
   "execution_count": null,
   "metadata": {
    "execution": {
     "iopub.execute_input": "2024-01-13T01:19:51.378652Z",
     "iopub.status.busy": "2024-01-13T01:19:51.378015Z",
     "iopub.status.idle": "2024-01-13T01:23:47.017479Z",
     "shell.execute_reply": "2024-01-13T01:23:47.016883Z",
     "shell.execute_reply.started": "2024-01-13T01:19:51.378620Z"
    },
    "id": "rIUmi3RhpQiW"
   },
   "outputs": [],
   "source": [
    "%cd /notebooks/stable-diffusion-webui/models/Stable-diffusion\n",
    "\n",
    "# !wget -nc ダウンロードURL -O ファイル名.safetensors\n",
    "!wget -nc https://civitai.com/api/download/models/177164 -O beautifulRealistic_v7.safetensors\n"
   ]
  },
  {
   "cell_type": "markdown",
   "metadata": {},
   "source": [
    "# LoRAのダウンロード"
   ]
  },
  {
   "cell_type": "code",
   "execution_count": null,
   "metadata": {
    "execution": {
     "iopub.execute_input": "2024-01-13T01:19:51.378652Z",
     "iopub.status.busy": "2024-01-13T01:19:51.378015Z",
     "iopub.status.idle": "2024-01-13T01:23:47.017479Z",
     "shell.execute_reply": "2024-01-13T01:23:47.016883Z",
     "shell.execute_reply.started": "2024-01-13T01:19:51.378620Z"
    },
    "id": "rIUmi3RhpQiW"
   },
   "outputs": [],
   "source": [
    "!mkdir -p /notebooks/stable-diffusion-webui/models/Lora\n",
    "%cd /notebooks/stable-diffusion-webui/models/Lora\n",
    "\n",
    "# !wget -nc ダウンロードURL -O ファイル名.safetensors\n",
    "!wget -nc https://civitai.com/api/download/models/9208 -O easynegative.safetensors\n"
   ]
  },
  {
   "cell_type": "markdown",
   "metadata": {},
   "source": [
    "# VAEのダウンロード"
   ]
  },
  {
   "cell_type": "code",
   "execution_count": null,
   "metadata": {
    "execution": {
     "iopub.execute_input": "2024-01-13T01:19:51.378652Z",
     "iopub.status.busy": "2024-01-13T01:19:51.378015Z",
     "iopub.status.idle": "2024-01-13T01:23:47.017479Z",
     "shell.execute_reply": "2024-01-13T01:23:47.016883Z",
     "shell.execute_reply.started": "2024-01-13T01:19:51.378620Z"
    },
    "id": "rIUmi3RhpQiW"
   },
   "outputs": [],
   "source": [
    "%cd /notebooks/stable-diffusion-webui/models/VAE\n",
    "\n",
    "# !wget -nc ダウンロードURL -O ファイル名.safetensors\n",
    "!wget -nc https://huggingface.co/stabilityai/sd-vae-ft-mse-original/resolve/main/vae-ft-mse-840000-ema-pruned.ckpt -O vae-ft-mse-840000-ema-pruned.ckpt\n"
   ]
  },
  {
   "cell_type": "markdown",
   "metadata": {},
   "source": [
    "# ControlNetのモデルのダウンロード"
   ]
  },
  {
   "cell_type": "code",
   "execution_count": null,
   "metadata": {},
   "outputs": [],
   "source": [
    "!mkdir -p /notebooks/stable-diffusion-webui/models/ControlNet\n",
    "%cd /notebooks/stable-diffusion-webui/models/ControlNet\n",
    "\n",
    "!wget -nc https://huggingface.co/webui/ControlNet-modules-safetensors/resolve/main/control_canny-fp16.safetensors -O canny.safetensors\n",
    "!wget -nc https://huggingface.co/webui/ControlNet-modules-safetensors/blob/main/control_openpose-fp16.safetensors -O openpose.safetensors\n",
    "!wget -nc https://huggingface.co/webui/ControlNet-modules-safetensors/blob/main/control_scribble-fp16.safetensors -O scribble.safetensors\n",
    "!wget -nc https://huggingface.co/webui/ControlNet-modules-safetensors/blob/main/control_seg-fp16.safetensors -O seg.safetensors"
   ]
  }
 ],
 "metadata": {
  "colab": {
   "private_outputs": true,
   "provenance": []
  },
  "gpuClass": "standard",
  "kernelspec": {
   "display_name": "Python 3 (ipykernel)",
   "language": "python",
   "name": "python3"
  },
  "language_info": {
   "codemirror_mode": {
    "name": "ipython",
    "version": 3
   },
   "file_extension": ".py",
   "mimetype": "text/x-python",
   "name": "python",
   "nbconvert_exporter": "python",
   "pygments_lexer": "ipython3",
   "version": "3.10.10"
  }
 },
 "nbformat": 4,
 "nbformat_minor": 4
}
